{
 "cells": [
  {
   "cell_type": "code",
   "execution_count": null,
   "metadata": {},
   "outputs": [],
   "source": [
    "# --target=/home/work/IROLIM numpy"
   ]
  },
  {
   "cell_type": "code",
   "execution_count": 1,
   "metadata": {},
   "outputs": [],
   "source": [
    "import sys\n",
    "sys.path.append('/home/work/IROLIM')"
   ]
  },
  {
   "cell_type": "code",
   "execution_count": 2,
   "metadata": {},
   "outputs": [
    {
     "name": "stdout",
     "output_type": "stream",
     "text": [
      "Looking in indexes: https://pypi.org/simple, https://pypi.ngc.nvidia.com\n",
      "Collecting svgpathtools\n",
      "  Downloading svgpathtools-1.7.1-py2.py3-none-any.whl.metadata (22 kB)\n",
      "Downloading svgpathtools-1.7.1-py2.py3-none-any.whl (68 kB)\n",
      "Installing collected packages: svgpathtools\n",
      "Successfully installed svgpathtools-1.7.1\n",
      "\u001b[33mWARNING: Target directory /home/work/IROLIM/svgpathtools already exists. Specify --upgrade to force replacement.\u001b[0m\u001b[33m\n",
      "\u001b[0m\u001b[33mWARNING: Target directory /home/work/IROLIM/svgpathtools-1.7.1.dist-info already exists. Specify --upgrade to force replacement.\u001b[0m\u001b[33m\n",
      "\u001b[0mLooking in indexes: https://pypi.org/simple, https://pypi.ngc.nvidia.com\n",
      "Collecting svgwrite\n",
      "  Downloading svgwrite-1.4.3-py3-none-any.whl.metadata (8.8 kB)\n",
      "Downloading svgwrite-1.4.3-py3-none-any.whl (67 kB)\n",
      "\u001b[33mDEPRECATION: Loading egg at /usr/local/lib/python3.12/dist-packages/bitsandbytes-0.45.4.dev0-py3.12-linux-x86_64.egg is deprecated. pip 25.1 will enforce this behaviour change. A possible replacement is to use pip for package installation. Discussion can be found at https://github.com/pypa/pip/issues/12330\u001b[0m\u001b[33m\n",
      "\u001b[0m\u001b[33mDEPRECATION: Loading egg at /usr/local/lib/python3.12/dist-packages/looseversion-1.3.0-py3.12.egg is deprecated. pip 25.1 will enforce this behaviour change. A possible replacement is to use pip for package installation. Discussion can be found at https://github.com/pypa/pip/issues/12330\u001b[0m\u001b[33m\n",
      "\u001b[0m\u001b[33mDEPRECATION: Loading egg at /usr/local/lib/python3.12/dist-packages/lightning_utilities-0.12.0.dev0-py3.12.egg is deprecated. pip 25.1 will enforce this behaviour change. A possible replacement is to use pip for package installation. Discussion can be found at https://github.com/pypa/pip/issues/12330\u001b[0m\u001b[33m\n",
      "\u001b[0m\u001b[33mDEPRECATION: Loading egg at /usr/local/lib/python3.12/dist-packages/lightning_thunder-0.2.0.dev0-py3.12.egg is deprecated. pip 25.1 will enforce this behaviour change. A possible replacement is to use pip for package installation. Discussion can be found at https://github.com/pypa/pip/issues/12330\u001b[0m\u001b[33m\n",
      "\u001b[0m\u001b[33mDEPRECATION: Loading egg at /usr/local/lib/python3.12/dist-packages/nvfuser-0.2.23a0+6627725-py3.12-linux-x86_64.egg is deprecated. pip 25.1 will enforce this behaviour change. A possible replacement is to use pip for package installation. Discussion can be found at https://github.com/pypa/pip/issues/12330\u001b[0m\u001b[33m\n",
      "\u001b[0mInstalling collected packages: svgwrite\n",
      "Successfully installed svgwrite-1.4.3\n",
      "\u001b[33mWARNING: Target directory /home/work/IROLIM/svgwrite already exists. Specify --upgrade to force replacement.\u001b[0m\u001b[33m\n",
      "\u001b[0m\u001b[33mWARNING: Target directory /home/work/IROLIM/svgwrite-1.4.3.dist-info already exists. Specify --upgrade to force replacement.\u001b[0m\u001b[33m\n",
      "\u001b[0m"
     ]
    }
   ],
   "source": [
    "!pip install --no-deps --target=/home/work/IROLIM svgpathtools\n",
    "!pip install --target=/home/work/IROLIM svgwrite"
   ]
  },
  {
   "cell_type": "markdown",
   "metadata": {},
   "source": [
    "### 불화 파츠 SVG 수집"
   ]
  },
  {
   "cell_type": "code",
   "execution_count": 3,
   "metadata": {},
   "outputs": [],
   "source": [
    "from svgpathtools import svg2paths, wsvg\n",
    "import os\n",
    "import pandas as pd"
   ]
  },
  {
   "cell_type": "code",
   "execution_count": 4,
   "metadata": {},
   "outputs": [],
   "source": [
    "input_svg_folder = './svg/raw/'\n",
    "output_parts_folder = './svg/parts/'\n",
    "\n",
    "os.makedirs(output_parts_folder, exist_ok=True)\n",
    "\n",
    "for filename in os.listdir(input_svg_folder):\n",
    "    if filename.endswith('.svg'):\n",
    "        paths, attributes = svg2paths(os.path.join(input_svg_folder, filename))\n",
    "        for idx, path in enumerate(paths):\n",
    "            part_filename = f\"{filename[:-4]}_part{idx}.svg\"\n",
    "            with open(os.path.join(output_parts_folder, part_filename), 'w') as f:\n",
    "                f.write(f'<svg xmlns=\"http://www.w3.org/2000/svg\"><path d=\"{path.d()}\" /></svg>')\n"
   ]
  },
  {
   "cell_type": "markdown",
   "metadata": {},
   "source": [
    "### 실루엣만 가져와서 원점조정"
   ]
  },
  {
   "cell_type": "code",
   "execution_count": 17,
   "metadata": {},
   "outputs": [],
   "source": [
    "def export_svg_part_with_adjusted_viewbox(path_object, output_filepath, padding=10, fill_color=\"none\"):\n",
    "    \"\"\"\n",
    "    단일 SVG path 객체를 새로운 SVG 파일로 저장하고, 해당 path가 viewBox 안에 오도록 좌표를 정렬합니다.\n",
    "\n",
    "    Args:\n",
    "        path_object (svgpathtools.Path): 저장할 Path 객체.\n",
    "        output_filepath (str): 저장할 SVG 파일의 전체 경로.\n",
    "        padding (int, optional): viewBox에 추가할 여백 (픽셀). 기본값은 10.\n",
    "        fill_color (str, optional): 저장될 path의 fill 색상. 기본값은 \"black\".\n",
    "    \"\"\"\n",
    "    if not path_object or path_object.length() == 0:\n",
    "        print(f\"경고: '{output_filepath}'에 저장할 유효한 패스가 없습니다. 건너뜜니다.\")\n",
    "        return\n",
    "\n",
    "    # 1. path_object의 경계 박스 계산\n",
    "    p_min_x, p_max_x, p_min_y, p_max_y = path_object.bbox()\n",
    "    \n",
    "    # 2. 좌표 변환 값 결정 (path를 (0,0) 근처로 이동)\n",
    "    translate_x = -p_min_x\n",
    "    translate_y = -p_min_y\n",
    "\n",
    "    # 3. path 변환\n",
    "    translated_path = path_object.translated(complex(translate_x, translate_y))\n",
    "\n",
    "    # 4. 새로운 viewBox 설정\n",
    "    # 변환된 패스의 새로운 경계 박스 (0,0 근처에서 시작)\n",
    "    # 패딩을 고려하여 viewBox의 시작점과 크기를 조정\n",
    "    vb_width = (p_max_x - p_min_x) + 2 * padding\n",
    "    vb_height = (p_max_y - p_min_y) + 2 * padding\n",
    "    \n",
    "    # viewBox는 \"min-x min-y width height\" 형식이므로, 패딩을 적용하면 min-x와 min-y를 음수로 시작\n",
    "    new_viewbox_str = f\"{-padding:.2f} {-padding:.2f} {vb_width:.2f} {vb_height:.2f}\"\n",
    "\n",
    "    # 5. 새로운 SVG 파일 생성 및 저장\n",
    "    # wsvg 함수를 사용하여 path 객체를 SVG 파일로 저장\n",
    "    # attributes는 <svg> 태그에 적용될 속성들을 담는 딕셔너리의 리스트입니다.\n",
    "    svg_attrs = {\n",
    "        'xmlns': \"http://www.w3.org/2000/svg\",\n",
    "        'viewBox': new_viewbox_str\n",
    "    }\n",
    "    \n",
    "    # Path 객체의 'fill' 속성 설정 (wsvg가 path 객체의 속성을 우선함)\n",
    "    # translated_path.fill = fill_color\n",
    "    \n",
    "    # wsvg 함수는 단일 path 객체도 리스트 형태로 받습니다.\n",
    "    wsvg([translated_path], filename=output_filepath, attributes=[svg_attrs])\n",
    "\n",
    "    # 선택 사항: 콘솔 출력\n",
    "    # print(f\"'{os.path.basename(output_filepath)}' 저장 완료. viewBox: {new_viewbox_str}\")\n",
    "    # 데이터프레임 생성\n",
    "    data = {\n",
    "        \"X\": p_min_x,\n",
    "        \"Y\": p_min_y\n",
    "    }\n",
    "    return data\n"
   ]
  },
  {
   "cell_type": "code",
   "execution_count": 6,
   "metadata": {},
   "outputs": [],
   "source": [
    "from PIL import Image"
   ]
  },
  {
   "cell_type": "code",
   "execution_count": 7,
   "metadata": {},
   "outputs": [],
   "source": [
    "\n",
    "def get_image_size(filepath, filename):\n",
    "    \"\"\"\n",
    "    이미지 파일의 크기를 반환하는 함수.\n",
    "    \n",
    "    Args:\n",
    "        filepath (str): 이미지 파일의 전체 경로.\n",
    "        filename (str): 이미지 파일 이름.\n",
    "    \n",
    "    Returns:\n",
    "        dict: 파일명, 너비, 높이를 포함한 딕셔너리. 오류 발생 시 None 반환.\n",
    "    \"\"\"\n",
    "    print(filename)\n",
    "    try:\n",
    "        with Image.open(filepath) as img:\n",
    "            width, height = img.size\n",
    "            print({\"파일명\": filename, \"너비\": width, \"높이\": height})\n",
    "    except Exception as e:\n",
    "        print(f\"이미지 처리 실패: {filename}, 오류: {e}\")\n",
    "        return None"
   ]
  },
  {
   "cell_type": "code",
   "execution_count": 22,
   "metadata": {},
   "outputs": [
    {
     "name": "stdout",
     "output_type": "stream",
     "text": [
      "'./svg/raw/' 폴더에서 원본 SVG 파일을 스캔하여 파츠별로 분리 및 정렬합니다.\n",
      "'1-2.svg' 파일이 4개의 파츠로 분리되어 './svg/parts/'에 저장되었습니다.\n",
      "모든 SVG 파일 파츠 분리 및 정렬을 완료했습니다.\n"
     ]
    }
   ],
   "source": [
    "# --- 메인 스크립트 (이전 코드에 함수 호출 추가) ---\n",
    "input_svg_folder = './svg/raw/'\n",
    "output_parts_folder = './svg/parts/'\n",
    "os.makedirs(output_parts_folder, exist_ok=True)\n",
    "\n",
    "print(f\"'{input_svg_folder}' 폴더에서 원본 SVG 파일을 스캔하여 파츠별로 분리 및 정렬합니다.\")\n",
    "\n",
    "# 결과를 저장할 리스트\n",
    "results = []\n",
    "\n",
    "for filename in os.listdir(input_svg_folder):\n",
    "    if filename.endswith('.svg'):\n",
    "        input_filepath = os.path.join(input_svg_folder, filename)\n",
    "        # get_image_size(input_svg_folder, filename)\n",
    "        \n",
    "        try:\n",
    "            paths, attributes = svg2paths(input_filepath) # 원본 파일의 모든 패스와 속성 읽기\n",
    "            \n",
    "            if not paths:\n",
    "                print(f\"경고: '{filename}' 파일에 유효한 패스(path)가 없어 분리할 파츠가 없습니다. 건너뜜니다.\")\n",
    "                continue\n",
    "\n",
    "            for idx, path in enumerate(paths):\n",
    "                part_filename = f\"{filename[:-4]}_part{idx}.svg\"\n",
    "                part_output_filepath = os.path.join(output_parts_folder, part_filename)\n",
    "                \n",
    "                # 새로 정의한 함수를 호출하여 각 파츠를 개별 SVG 파일로 저장하면서 좌표 정렬\n",
    "                result = export_svg_part_with_adjusted_viewbox(path, part_output_filepath)\n",
    "                results.append({\"X\": result[\"X\"], \"Y\": result[\"Y\"], \"Filename\": part_filename})\n",
    "            print(f\"'{filename}' 파일이 {len(paths)}개의 파츠로 분리되어 '{output_parts_folder}'에 저장되었습니다.\")\n",
    "        except Exception as e:\n",
    "            print(f\"오류 발생 - '{filename}' 처리 중: {e}\")\n",
    "\n",
    "print(\"모든 SVG 파일 파츠 분리 및 정렬을 완료했습니다.\")"
   ]
  },
  {
   "cell_type": "code",
   "execution_count": 25,
   "metadata": {},
   "outputs": [
    {
     "data": {
      "text/plain": [
       "[{'X': 340.9423017075062,\n",
       "  'Y': 239.61999999999986,\n",
       "  'Filename': '1-2_part0.svg'},\n",
       " {'X': 171.25752676703542, 'Y': 327.881247579185, 'Filename': '1-2_part1.svg'},\n",
       " {'X': 338.1047362244047, 'Y': 796.2129611394786, 'Filename': '1-2_part2.svg'},\n",
       " {'X': 438.0407715155567, 'Y': 865.0788545542258, 'Filename': '1-2_part3.svg'}]"
      ]
     },
     "execution_count": 25,
     "metadata": {},
     "output_type": "execute_result"
    }
   ],
   "source": [
    "results"
   ]
  },
  {
   "cell_type": "code",
   "execution_count": 26,
   "metadata": {},
   "outputs": [],
   "source": [
    "# 데이터프레임 생성\n",
    "df = pd.DataFrame(results)\n",
    "# df[\"x좌표\"] = df[\"X\"].apply(lambda x: round(x, 2))\n",
    "# df[\"y좌표\"] = df[\"Y\"].apply(lambda y: round(y, 2))\n"
   ]
  },
  {
   "cell_type": "code",
   "execution_count": 27,
   "metadata": {},
   "outputs": [
    {
     "data": {
      "text/html": [
       "<div>\n",
       "<style scoped>\n",
       "    .dataframe tbody tr th:only-of-type {\n",
       "        vertical-align: middle;\n",
       "    }\n",
       "\n",
       "    .dataframe tbody tr th {\n",
       "        vertical-align: top;\n",
       "    }\n",
       "\n",
       "    .dataframe thead th {\n",
       "        text-align: right;\n",
       "    }\n",
       "</style>\n",
       "<table border=\"1\" class=\"dataframe\">\n",
       "  <thead>\n",
       "    <tr style=\"text-align: right;\">\n",
       "      <th></th>\n",
       "      <th>X</th>\n",
       "      <th>Y</th>\n",
       "      <th>Filename</th>\n",
       "    </tr>\n",
       "  </thead>\n",
       "  <tbody>\n",
       "    <tr>\n",
       "      <th>0</th>\n",
       "      <td>340.942302</td>\n",
       "      <td>239.620000</td>\n",
       "      <td>1-2_part0.svg</td>\n",
       "    </tr>\n",
       "    <tr>\n",
       "      <th>1</th>\n",
       "      <td>171.257527</td>\n",
       "      <td>327.881248</td>\n",
       "      <td>1-2_part1.svg</td>\n",
       "    </tr>\n",
       "    <tr>\n",
       "      <th>2</th>\n",
       "      <td>338.104736</td>\n",
       "      <td>796.212961</td>\n",
       "      <td>1-2_part2.svg</td>\n",
       "    </tr>\n",
       "    <tr>\n",
       "      <th>3</th>\n",
       "      <td>438.040772</td>\n",
       "      <td>865.078855</td>\n",
       "      <td>1-2_part3.svg</td>\n",
       "    </tr>\n",
       "  </tbody>\n",
       "</table>\n",
       "</div>"
      ],
      "text/plain": [
       "            X           Y       Filename\n",
       "0  340.942302  239.620000  1-2_part0.svg\n",
       "1  171.257527  327.881248  1-2_part1.svg\n",
       "2  338.104736  796.212961  1-2_part2.svg\n",
       "3  438.040772  865.078855  1-2_part3.svg"
      ]
     },
     "execution_count": 27,
     "metadata": {},
     "output_type": "execute_result"
    }
   ],
   "source": [
    "df #원본 캔버스 사이즈에 맞는 파트들의 좌표 시작점.(원점이 됨)"
   ]
  },
  {
   "cell_type": "markdown",
   "metadata": {},
   "source": [
    "### 좌표 고정 부위별 SVG"
   ]
  },
  {
   "cell_type": "code",
   "execution_count": 32,
   "metadata": {},
   "outputs": [
    {
     "name": "stdout",
     "output_type": "stream",
     "text": [
      "1-2.svg → 4개의 파츠로 분해 완료 (viewBox=0 0 900.24 1200, width=3751, height=5000)\n"
     ]
    }
   ],
   "source": [
    "from svgpathtools import svg2paths2\n",
    "from bs4 import BeautifulSoup\n",
    "import os\n",
    "\n",
    "input_svg_folder = './svg/raw/'\n",
    "output_parts_folder = './svg/parts/'\n",
    "\n",
    "os.makedirs(output_parts_folder, exist_ok=True)\n",
    "\n",
    "for filename in os.listdir(input_svg_folder):\n",
    "    if filename.endswith('.svg'):\n",
    "        input_path = os.path.join(input_svg_folder, filename)\n",
    "\n",
    "        # ---------- Step 1: 원본 SVG에서 이미지 width, height, viewBox 읽기 ----------\n",
    "        with open(input_path, 'r', encoding='utf-8') as f:\n",
    "            soup = BeautifulSoup(f, 'xml')\n",
    "            svg_tag = soup.find('svg')\n",
    "\n",
    "            # ① 기본 viewBox, width, height 값 가져오기\n",
    "            viewBox = svg_tag.get('viewBox')\n",
    "            svg_width = svg_tag.get('width')\n",
    "            svg_height = svg_tag.get('height')\n",
    "\n",
    "            # ② <image> 태그에서 원본 이미지 크기 읽기\n",
    "            image_tag = soup.find('image')\n",
    "            if image_tag:\n",
    "                image_width = image_tag.get('width')\n",
    "                image_height = image_tag.get('height')\n",
    "\n",
    "                # 만약 SVG width/height 없을 경우 <image> 크기로 설정\n",
    "                if svg_width is None:\n",
    "                    svg_width = image_width\n",
    "                if svg_height is None:\n",
    "                    svg_height = image_height\n",
    "            else:\n",
    "                print(f\"경고: {filename} 안에 <image> 태그 없음. width/height 정보 부족할 수 있음.\")\n",
    "\n",
    "        # ---------- Step 2: Path 추출 ----------\n",
    "        paths, attributes, svg_attributes = svg2paths2(input_path)\n",
    "\n",
    "        for idx, path in enumerate(paths):\n",
    "            part_filename = f\"{filename[:-4]}_part{idx}.svg\"\n",
    "            output_path = os.path.join(output_parts_folder, part_filename)\n",
    "\n",
    "            attr = attributes[idx]\n",
    "            fill = attr.get('fill', 'none')\n",
    "            stroke = attr.get('stroke', 'none')\n",
    "            style = attr.get('style', '')\n",
    "\n",
    "            # ---------- Step 3: 파츠별 SVG 저장 (원본 좌표계 + viewBox 유지) ----------\n",
    "            with open(output_path, 'w', encoding='utf-8') as f:\n",
    "                f.write(f'<svg xmlns=\"http://www.w3.org/2000/svg\"')\n",
    "\n",
    "                # viewBox 설정\n",
    "                if viewBox:\n",
    "                    f.write(f' viewBox=\"{viewBox}\"')\n",
    "\n",
    "                # width/height 설정\n",
    "                if svg_width:\n",
    "                    f.write(f' width=\"{svg_width}\"')\n",
    "                if svg_height:\n",
    "                    f.write(f' height=\"{svg_height}\"')\n",
    "                f.write('>\\n')\n",
    "\n",
    "                # path 저장 (좌표 수정 없이 그대로 원본 절대좌표)\n",
    "                style_attr = f' style=\"{style}\"' if style else ''\n",
    "                f.write(f'<path d=\"{path.d()}\" fill=\"{fill}\" stroke=\"{stroke}\"{style_attr} />\\n')\n",
    "                f.write('</svg>\\n')\n",
    "\n",
    "        print(f\"{filename} → {len(paths)}개의 파츠로 분해 완료 (viewBox={viewBox}, width={svg_width}, height={svg_height})\")\n"
   ]
  }
 ],
 "metadata": {
  "kernelspec": {
   "display_name": "Python 3",
   "language": "python",
   "name": "python3"
  },
  "language_info": {
   "codemirror_mode": {
    "name": "ipython",
    "version": 3
   },
   "file_extension": ".py",
   "mimetype": "text/x-python",
   "name": "python",
   "nbconvert_exporter": "python",
   "pygments_lexer": "ipython3",
   "version": "3.12.3"
  }
 },
 "nbformat": 4,
 "nbformat_minor": 2
}
